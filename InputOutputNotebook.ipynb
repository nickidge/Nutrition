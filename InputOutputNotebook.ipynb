{
 "cells": [
  {
   "cell_type": "code",
   "execution_count": 198,
   "metadata": {
    "collapsed": false
   },
   "outputs": [],
   "source": [
    "import pandas\n",
    "import numpy\n",
    "Location = r'InputForCode.xlsx'"
   ]
  },
  {
   "cell_type": "code",
   "execution_count": 199,
   "metadata": {
    "collapsed": false
   },
   "outputs": [],
   "source": [
    "#  READ TOTAL MORTALITY SHEET\n",
    "#  gets you:\n",
    "#  - totalMortalityByAge\n",
    "\n",
    "df = pandas.read_excel(Location, sheetname = 'total mortality')\n",
    "totalMortalityByAge = list(df.iloc[0])"
   ]
  },
  {
   "cell_type": "code",
   "execution_count": 200,
   "metadata": {
    "collapsed": false
   },
   "outputs": [],
   "source": [
    "#  READ MORTALITY SHEET\n",
    "#  gets you:\n",
    "#  - ages\n",
    "#  - causesOfDeath\n",
    "#  - casueOfDeathByAge\n",
    "\n",
    "#get list of ages and causesOfDeath\n",
    "df = pandas.read_excel(Location, sheetname = 'mortality') #read this way for this task\n",
    "causesOfDeath = list(df['Cause'])\n",
    "ages = list(df.columns.values)[1:]\n",
    "#get the nested list of causeOfDeathByAge\n",
    "df = pandas.read_excel(Location, sheetname = 'mortality', index_col = 'Cause') #read this way for this task\n",
    "causeOfDeathByAge = {}\n",
    "for cause in causesOfDeath:\n",
    "    causeOfDeathByAge[cause] = {}\n",
    "    for age in ages:\n",
    "        causeOfDeathByAge[cause][age] = df.loc[cause, age]\n"
   ]
  },
  {
   "cell_type": "code",
   "execution_count": 201,
   "metadata": {
    "collapsed": false
   },
   "outputs": [],
   "source": [
    "#  READ RRStunting SHEET\n",
    "#  gets you:\n",
    "#  - RRStunting\n",
    "\n",
    "#get the list of causes for which we have relative risks\n",
    "df = pandas.read_excel(Location, sheetname = 'RRStunting', index_col = [0]) #read this way for this task\n",
    "mylist = list(df.index.values)\n",
    "myset = set(mylist)\n",
    "listCausesRRStunting = list(myset)\n",
    "#put the RR into RRStunting\n",
    "df = pandas.read_excel(Location, sheetname = 'RRStunting', index_col = [0, 1]) #read this way for this task\n",
    "\n",
    "RRStunting = {}\n",
    "for cause in causesOfDeath:\n",
    "    RRStunting[cause] = {}\n",
    "    for stuntingStatus in ['normal', 'mild', 'moderate', 'high']:\n",
    "        RRStunting[cause][stuntingStatus] = {}\n",
    "        for age in ages:\n",
    "            if cause in listCausesRRStunting: #if no RR given for this cause then set to 1\n",
    "                RRStunting[cause][stuntingStatus][age] = df.loc[cause][age][stuntingStatus]\n",
    "            else:\n",
    "                RRStunting[cause][stuntingStatus][age] = 1\n"
   ]
  },
  {
   "cell_type": "code",
   "execution_count": 202,
   "metadata": {
    "collapsed": false
   },
   "outputs": [],
   "source": [
    "#  READ RRWasting SHEET\n",
    "#  gets you:\n",
    "#  - RRWasting\n",
    "\n",
    "#get the list of causes for which we have relative risks\n",
    "df = pandas.read_excel(Location, sheetname = 'RRWasting', index_col = [0]) #read this way for this task\n",
    "mylist = list(df.index.values)\n",
    "myset = set(mylist)\n",
    "listCausesRRWasting = list(myset)\n",
    "#put the RR into RRWasting\n",
    "df = pandas.read_excel(Location, sheetname = 'RRWasting', index_col = [0, 1]) #read this way for this task\n",
    "\n",
    "RRWasting = {}\n",
    "for cause in causesOfDeath:\n",
    "    RRWasting[cause] = {}\n",
    "    for wastingStatus in ['normal', 'mild', 'moderate', 'high']:\n",
    "        RRWasting[cause][wastingStatus] = {}\n",
    "        for age in ages:\n",
    "            if cause in listCausesRRWasting: #if no RR given for this cause then set to 1\n",
    "                RRWasting[cause][wastingStatus][age] = df.loc[cause][age][wastingStatus]\n",
    "            else:\n",
    "                RRWasting[cause][wastingStatus][age] = 1"
   ]
  },
  {
   "cell_type": "code",
   "execution_count": 203,
   "metadata": {
    "collapsed": false
   },
   "outputs": [],
   "source": [
    "#  READ RRBreastFeeding SHEET\n",
    "#  gets you:\n",
    "#  - RRBreastFeeding\n",
    "\n",
    "#get the list of causes for which we have relative risks\n",
    "df = pandas.read_excel(Location, sheetname = 'RRBreastFeeding', index_col = [0]) #read this way for this task\n",
    "mylist = list(df.index.values)\n",
    "myset = set(mylist)\n",
    "listCausesRRBreastFeeding = list(myset)\n",
    "#put the RR into RRBreastFeeding\n",
    "df = pandas.read_excel(Location, sheetname = 'RRBreastFeeding', index_col = [0, 1]) #read this way for this task\n",
    "\n",
    "RRBreastFeeding = {}\n",
    "for cause in causesOfDeath:\n",
    "    RRBreastFeeding[cause] = {}\n",
    "    for breastFeedingStatus in ['exclusive', 'predominant', 'partial', 'none']:\n",
    "        RRBreastFeeding[cause][breastFeedingStatus] = {}\n",
    "        for age in ages:\n",
    "            if cause in listCausesRRBreastFeeding: #if no RR given for this cause then set to 1\n",
    "                RRBreastFeeding[cause][breastFeedingStatus][age] = df.loc[cause][age][breastFeedingStatus]\n",
    "            else:\n",
    "                RRBreastFeeding[cause][breastFeedingStatus][age] = 1"
   ]
  },
  {
   "cell_type": "code",
   "execution_count": 204,
   "metadata": {
    "collapsed": false
   },
   "outputs": [],
   "source": [
    "#  READ distributions SHEET\n",
    "#  gets you:\n",
    "#  - stuntingDistribution\n",
    "#  - wastingDistribution\n",
    "#  - breastfeedingDistribution\n",
    "\n",
    "df = pandas.read_excel(Location, sheetname = 'distributions', index_col = [0, 1]) #read this way for this task\n",
    "stuntingDistribution = {}\n",
    "wastingDistribution = {}\n",
    "breastfeedingDistribution = {}\n",
    "\n",
    "#stunting\n",
    "for status in ['normal', 'mild', 'moderate', 'high']:\n",
    "    stuntingDistribution[status] = {}\n",
    "    for age in ages:\n",
    "        stuntingDistribution[status][age] = df.loc['Stunting'][age][status]\n",
    "#wasting        \n",
    "for status in ['normal', 'mild', 'moderate', 'high']:\n",
    "    wastingDistribution[status] = {}\n",
    "    for age in ages:\n",
    "        wastingDistribution[status][age] = df.loc['Wasting'][age][status]        \n",
    "#breast feeding       \n",
    "for status in ['exclusive', 'predominant', 'partial', 'none']:\n",
    "    breastfeedingDistribution[status] = {}\n",
    "    for age in ages:\n",
    "        breastfeedingDistribution[status][age] = df.loc['Breast Feeding'][age][status]\n",
    "              \n",
    "        "
   ]
  },
  {
   "cell_type": "code",
   "execution_count": 221,
   "metadata": {
    "collapsed": true
   },
   "outputs": [],
   "source": [
    "#  READ birth distribution SHEET\n",
    "#  gets you:\n",
    "#  - birthCircumstanceDist\n",
    "\n",
    "df = pandas.read_excel(Location, sheetname = 'birth distribution') #read this way for this task\n",
    "motherAges = list(df.columns.values)[1:]\n",
    "birthTypes = list(df['Type'])\n",
    "\n",
    "df = pandas.read_excel(Location, sheetname = 'birth distribution', index_col = [0]) #read this way for this task\n",
    "birthCircumstanceDist = {}\n",
    "for age in motherAges:\n",
    "    birthCircumstanceDist[age] = {}\n",
    "    for status in birthTypes:\n",
    "        birthCircumstanceDist[age][status] = df[age][status]"
   ]
  },
  {
   "cell_type": "code",
   "execution_count": 245,
   "metadata": {
    "collapsed": false
   },
   "outputs": [],
   "source": [
    "#  READ time between births SHEET\n",
    "#  gets you:\n",
    "#  - timeBetweenBirthsDist\n",
    "\n",
    "df = pandas.read_excel(Location, sheetname = 'time between births')\n",
    "timeBetweenBirthsDist = dict(zip(list(df.columns.values), df.iloc[0]))"
   ]
  },
  {
   "cell_type": "code",
   "execution_count": 267,
   "metadata": {
    "collapsed": false
   },
   "outputs": [],
   "source": [
    "#  READ RR birth by type SHEET\n",
    "#  gets you:\n",
    "#  - RRbirthOutcomeByAgeAndOrder\n",
    "\n",
    "#get the list of outcomes for which we have relative risks\n",
    "df = pandas.read_excel(Location, sheetname = 'RR birth by type', index_col = [0]) #read this way for this task\n",
    "mylist = list(df.index.values)\n",
    "myset = set(mylist)\n",
    "listOfOutcomes = list(myset)\n",
    "\n",
    "#put the RR into RRbirthOutcomeByAgeAndOrder\n",
    "df = pandas.read_excel(Location, sheetname = 'RR birth by type', index_col = [0, 1]) #read this way for this task\n",
    "\n",
    "RRbirthOutcomeByAgeAndOrder = {}\n",
    "for outcome in listOfOutcomes:\n",
    "    RRbirthOutcomeByAgeAndOrder[outcome] = {}\n",
    "    for age in motherAges:\n",
    "        RRbirthOutcomeByAgeAndOrder[outcome][age] = {}\n",
    "        for status in ['first', 'second or third', 'greater than third']:    \n",
    "            RRbirthOutcomeByAgeAndOrder[outcome][age][status] = df.loc[outcome][age][status]"
   ]
  },
  {
   "cell_type": "code",
   "execution_count": 283,
   "metadata": {
    "collapsed": false
   },
   "outputs": [],
   "source": [
    "#  READ RR birth by time SHEET\n",
    "#  gets you:\n",
    "#  - RRbirthOutcomeByTime\n",
    "\n",
    "df = pandas.read_excel(Location, sheetname = 'RR birth by time') #read this way for this task\n",
    "birthLag = list(df.columns.values)[1:]\n",
    "\n",
    "df = pandas.read_excel(Location, sheetname = 'RR birth by time', index_col = [0]) #read this way for this task\n",
    "RRbirthOutcomeByTime = {}\n",
    "for outcome in listOfOutcomes:\n",
    "    RRbirthOutcomeByTime[outcome] = {}\n",
    "    for time in birthLag:\n",
    "        RRbirthOutcomeByTime[outcome][time] = df[time][outcome]\n"
   ]
  },
  {
   "cell_type": "code",
   "execution_count": 286,
   "metadata": {
    "collapsed": false
   },
   "outputs": [],
   "source": [
    "#  READ OR stunting progression SHEET\n",
    "#  gets you:\n",
    "#  - ORstuntingProgression\n",
    "\n",
    "df = pandas.read_excel(Location, sheetname = 'OR stunting progression')\n",
    "ORstuntingProgression = dict(zip(list(df.columns.values), df.iloc[0]))"
   ]
  },
  {
   "cell_type": "code",
   "execution_count": 290,
   "metadata": {
    "collapsed": false
   },
   "outputs": [],
   "source": [
    "#  READ birth outcome distribution SHEET\n",
    "#  gets you:\n",
    "#  - birthOutcomeDist\n",
    "\n",
    "df = pandas.read_excel(Location, sheetname = 'birth outcome distribution')\n",
    "birthOutcomeDist = dict(zip(list(df.columns.values), df.iloc[0]))"
   ]
  }
 ],
 "metadata": {
  "kernelspec": {
   "display_name": "Python 2",
   "language": "python",
   "name": "python2"
  },
  "language_info": {
   "codemirror_mode": {
    "name": "ipython",
    "version": 2
   },
   "file_extension": ".py",
   "mimetype": "text/x-python",
   "name": "python",
   "nbconvert_exporter": "python",
   "pygments_lexer": "ipython2",
   "version": "2.7.11"
  }
 },
 "nbformat": 4,
 "nbformat_minor": 0
}
